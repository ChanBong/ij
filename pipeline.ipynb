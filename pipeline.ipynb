{
 "cells": [
  {
   "cell_type": "markdown",
   "metadata": {},
   "source": [
    "## Setup"
   ]
  },
  {
   "cell_type": "code",
   "execution_count": 1,
   "metadata": {},
   "outputs": [],
   "source": [
    "from structure import PhotoInfo, EXIFImageMetadata"
   ]
  },
  {
   "cell_type": "code",
   "execution_count": 2,
   "metadata": {},
   "outputs": [],
   "source": [
    "import os\n",
    "import openai\n",
    "import yaml\n",
    "\n",
    "with open(\"config.yaml\", \"r\") as f:\n",
    "    config = yaml.safe_load(f)\n",
    "\n",
    "os.environ['OPENAI_API_KEY'] = config['openai_api_key']"
   ]
  },
  {
   "cell_type": "code",
   "execution_count": 3,
   "metadata": {},
   "outputs": [
    {
     "name": "stdout",
     "output_type": "stream",
     "text": [
      "21 images ready to process\n"
     ]
    }
   ],
   "source": [
    "# make a list of image paths in images/stock. Can be .jpg or .png or .jpeg\n",
    "import os\n",
    "\n",
    "PHOTOS_DIR = 'images/stock'\n",
    "\n",
    "image_paths = []\n",
    "for filename in os.listdir(PHOTOS_DIR):\n",
    "    if filename.endswith(\".jpg\") or filename.endswith(\".png\") or filename.endswith(\".jpeg\"):\n",
    "        image_paths.append(os.path.join(PHOTOS_DIR, filename))\n",
    "    else:\n",
    "        continue\n",
    "\n",
    "print(f\"{len(image_paths)} images ready to process\")"
   ]
  },
  {
   "cell_type": "code",
   "execution_count": 4,
   "metadata": {},
   "outputs": [],
   "source": [
    "from database import create_table\n",
    "\n",
    "if os.path.exists(\"photo_database.db\") == False:\n",
    "    create_table()"
   ]
  },
  {
   "cell_type": "code",
   "execution_count": 5,
   "metadata": {},
   "outputs": [],
   "source": [
    "import qdrant_client\n",
    "from llama_index.vector_stores import QdrantVectorStore\n",
    "from llama_index.storage import StorageContext\n",
    "from llama_index import ServiceContext, VectorStoreIndex\n",
    "from llama_index.embeddings import LangchainEmbedding\n",
    "from langchain.embeddings.huggingface import HuggingFaceEmbeddings\n",
    "\n",
    "# Create a local Qdrant vector store\n",
    "client = qdrant_client.QdrantClient(path=\"qdrant_gemini\")\n",
    "vector_store = QdrantVectorStore(client=client, collection_name=\"collection\")\n",
    "\n",
    "embed_model = LangchainEmbedding(HuggingFaceEmbeddings(model_name=\"sentence-transformers/all-MiniLM-L6-v2\"))\n",
    "service_context = ServiceContext.from_defaults(embed_model=embed_model)\n",
    "\n",
    "# Load the vector store index\n",
    "index = VectorStoreIndex.from_vector_store(vector_store=vector_store, service_context=service_context)"
   ]
  },
  {
   "cell_type": "markdown",
   "metadata": {},
   "source": [
    "## Injestion Pipeline"
   ]
  },
  {
   "cell_type": "code",
   "execution_count": 6,
   "metadata": {},
   "outputs": [
    {
     "name": "stdout",
     "output_type": "stream",
     "text": [
      "Photo images/stock/image3.jpg already exists in the database. Using cache values...\n",
      "Photo images/stock/phone_photo (2).jpg already exists in the database. Using cache values...\n",
      "Photo images/stock/phone_photo (5).jpg already exists in the database. Using cache values...\n",
      "Photo images/stock/image7.jpeg already exists in the database. Using cache values...\n",
      "Photo images/stock/image5.jpeg already exists in the database. Using cache values...\n",
      "Photo images/stock/phone_photo (10).jpg already exists in the database. Using cache values...\n",
      "Photo images/stock/image2.jpg already exists in the database. Using cache values...\n",
      "Photo images/stock/image4.jpeg already exists in the database. Using cache values...\n",
      "Photo images/stock/cat_and_newspaper.jpg already exists in the database. Using cache values...\n",
      "Photo images/stock/phone_photo (1).jpg already exists in the database. Using cache values...\n",
      "Photo images/stock/image9.jpeg already exists in the database. Using cache values...\n",
      "Photo images/stock/image1.jpg already exists in the database. Using cache values...\n",
      "Photo images/stock/phone_photo (8).jpg already exists in the database. Using cache values...\n",
      "Photo images/stock/image8.jpeg already exists in the database. Using cache values...\n",
      "Photo images/stock/phone_photo (3).jpg already exists in the database. Using cache values...\n",
      "Photo images/stock/phone_photo (6).jpg already exists in the database. Using cache values...\n",
      "Photo images/stock/image10.jpeg already exists in the database. Using cache values...\n",
      "Photo images/stock/phone_photo (4).jpg already exists in the database. Using cache values...\n",
      "Photo images/stock/camera.jpg already exists in the database. Using cache values...\n",
      "Photo images/stock/phone_photo (9).jpg already exists in the database. Using cache values...\n",
      "Photo images/stock/phone_photo (7).jpg already exists in the database. Using cache values...\n"
     ]
    },
    {
     "data": {
      "text/plain": [
       "[PhotoInfo(photo_path='images/stock/image3.jpg', thumbnail_photo_path='NOT IMPLEMENTED', is_screenshot=False, tags=['barricade', 'barrier', 'car', 'construction site', 'construction worker', 'direct', 'dress', 'fireman', 'goggles', 'jumpsuit', 'man', 'pole', 'road', 'road sign', 'safety vest', 'sign', 'stand', 'street sign', 'traffic sign', 'wear', 'worker', 'yellow'], part_of_which_album=[], face_ids=[], metadata_fields={'SourceFile': 'images/stock/image3.jpg', 'FileName': 'image3.jpg', 'Directory': 'images/stock', 'FileSize': '64 KiB', 'FileAccessDate': '2024:01:24', 'FileAccessTime': '14:59:49', 'TimeZone': '+05:30', 'FileType': 'JPEG', 'Model': None, 'ISO': None, 'FNumber': None, 'ExposureTime': None, 'FocalLength': None, 'CreateDate': None, 'CreateTime': None, 'DateTimeOriginal': None, 'ShutterSpeedValue': None, 'GPSLatitudeRef': None, 'GPSLongitudeRef': None, 'Make': None, 'ImageWidth': 1024, 'ImageHeight': 682, 'Megapixels': 0.698, 'ShutterSpeed': None, 'GPSLatitude': None, 'GPSLongitude': None, 'GPSPosition': None}, summary='In the image, there is a construction site with a barricade and barrier placed along the road. In the foreground stands a man, a construction worker, wearing a jumpsuit and a yellow safety vest. He is also wearing goggles and appears to be directing traffic. The worker is standing next to a pole which holds a road sign and a street sign indicating the ongoing construction. In the background, there is a car on the road. Overall, the image portrays a construction worker executing his duties at a construction site while ensuring safety and directing traffic.'),\n",
       " PhotoInfo(photo_path='images/stock/phone_photo (2).jpg', thumbnail_photo_path='NOT IMPLEMENTED', is_screenshot=False, tags=['attach', 'bottle', 'can', 'hang', 'hook', 'ledge', 'orange', 'package', 'product', 'toothpaste', 'tube'], part_of_which_album=[], face_ids=[], metadata_fields={'SourceFile': 'images/stock/phone_photo (2).jpg', 'FileName': 'phone_photo (2).jpg', 'Directory': 'images/stock', 'FileSize': '2.2 MiB', 'FileAccessDate': '2024:01:24', 'FileAccessTime': '00:12:00', 'TimeZone': '+05:30', 'FileType': 'JPEG', 'Model': 'A063', 'ISO': 560, 'FNumber': 1.9, 'ExposureTime': '1/25', 'FocalLength': '5.6 mm', 'CreateDate': '2024:01:19', 'CreateTime': None, 'DateTimeOriginal': '2024:01:19 00:52:33', 'ShutterSpeedValue': None, 'GPSLatitudeRef': None, 'GPSLongitudeRef': None, 'Make': 'Nothing', 'ImageWidth': 4096, 'ImageHeight': 3072, 'Megapixels': 12.6, 'ShutterSpeed': '1/25', 'GPSLatitude': None, 'GPSLongitude': None, 'GPSPosition': None}, summary='The image shows an orange toothpaste tube package hanging from a hook on a ledge. The package is attached to the hook and also includes a bottle and a can.'),\n",
       " PhotoInfo(photo_path='images/stock/phone_photo (5).jpg', thumbnail_photo_path='NOT IMPLEMENTED', is_screenshot=False, tags=['building', 'ceiling', 'pillar', 'escalator', 'floor', 'person', 'stair', 'station', 'subway', 'subway station', 'tunnel'], part_of_which_album=[], face_ids=[], metadata_fields={'SourceFile': 'images/stock/phone_photo (5).jpg', 'FileName': 'phone_photo (5).jpg', 'Directory': 'images/stock', 'FileSize': '3.7 MiB', 'FileAccessDate': '2024:01:24', 'FileAccessTime': '22:49:49', 'TimeZone': '+05:30', 'FileType': 'JPEG', 'Model': 'A063', 'ISO': 162, 'FNumber': 1.9, 'ExposureTime': '1/100', 'FocalLength': '5.6 mm', 'CreateDate': '2023:12:28', 'CreateTime': None, 'DateTimeOriginal': '2023:12:28 18:22:09', 'ShutterSpeedValue': '1/100', 'GPSLatitudeRef': 'North', 'GPSLongitudeRef': 'East', 'Make': 'Nothing', 'ImageWidth': 4096, 'ImageHeight': 3072, 'Megapixels': 12.6, 'ShutterSpeed': '1/100', 'GPSLatitude': '12 deg 58\\' 41.53\" N', 'GPSLongitude': '77 deg 38\\' 17.42\" E', 'Location': 'Indiranagar Metro Station, Chinmaya Mission Hospital Road, Indiranagar 1st Stage, Hoysala Nagara, East Zone, Bengaluru, Bangalore North, Bengaluru Urban District, Karnataka, 560038, India'}, summary='In this image, there is a building featuring a grand ceiling supported by pillars. Inside the building, an escalator leads from one floor to another. A person can be seen standing on the escalator, making their way through the station. This station appears to be a subway station, evidenced by the presence of a tunnel and stairs nearby.'),\n",
       " PhotoInfo(photo_path='images/stock/image7.jpeg', thumbnail_photo_path='NOT IMPLEMENTED', is_screenshot=False, tags=['bakery', 'bread', 'bulletin board', 'cake', 'case', 'counter top', 'croissant', 'plate', 'display', 'fill', 'food', 'muffin', 'pastry', 'pie', 'platter', 'showcase', 'tray', 'type', 'variety'], part_of_which_album=[], face_ids=[], metadata_fields={'SourceFile': 'images/stock/image7.jpeg', 'FileName': 'image7.jpeg', 'Directory': 'images/stock', 'FileSize': '296 KiB', 'FileAccessDate': '2024:01:24', 'FileAccessTime': '15:00:55', 'TimeZone': '+05:30', 'FileType': 'JPEG', 'Model': None, 'ISO': None, 'FNumber': None, 'ExposureTime': None, 'FocalLength': None, 'CreateDate': None, 'CreateTime': None, 'DateTimeOriginal': None, 'ShutterSpeedValue': None, 'GPSLatitudeRef': None, 'GPSLongitudeRef': None, 'Make': None, 'ImageWidth': 1280, 'ImageHeight': 960, 'Megapixels': 1.2, 'ShutterSpeed': None, 'GPSLatitude': None, 'GPSLongitude': None, 'GPSPosition': None}, summary='In this image, you can see a bakery with a bulletin board hanging on the wall. The display case on the counter top is filled with a mouthwatering variety of bread, cakes, croissants, muffins, pastries, and pies. The baked goods are arranged neatly on platters and trays, inviting customers to indulge in their deliciousness. The showcase showcases the different types of tasty treats, and a plate can be seen with a freshly baked croissant. It is a delightful sight for all food lovers, tempting them with the appetizing assortment of goodies.'),\n",
       " PhotoInfo(photo_path='images/stock/image5.jpeg', thumbnail_photo_path='NOT IMPLEMENTED', is_screenshot=False, tags=['beach', 'clear', 'cliff', 'coast', 'footprint', 'lap', 'sea', 'stone', 'rock formation', 'rocky', 'sand', 'shore', 'shoreline', 'wash', 'water'], part_of_which_album=[], face_ids=[], metadata_fields={'SourceFile': 'images/stock/image5.jpeg', 'FileName': 'image5.jpeg', 'Directory': 'images/stock', 'FileSize': '291 KiB', 'FileAccessDate': '2024:01:24', 'FileAccessTime': '15:00:55', 'TimeZone': '+05:30', 'FileType': 'JPEG', 'Model': None, 'ISO': None, 'FNumber': None, 'ExposureTime': None, 'FocalLength': None, 'CreateDate': None, 'CreateTime': None, 'DateTimeOriginal': None, 'ShutterSpeedValue': None, 'GPSLatitudeRef': None, 'GPSLongitudeRef': None, 'Make': None, 'ImageWidth': 1280, 'ImageHeight': 960, 'Megapixels': 1.2, 'ShutterSpeed': None, 'GPSLatitude': None, 'GPSLongitude': None, 'GPSPosition': None}, summary='At the beach, along a clear shoreline, a rocky coast rises with a cliff and rock formations. The sandy shore meets the lap of the sea, leaving behind footprints in the wet sand. The water washes against the stone, forming a picturesque scene.'),\n",
       " PhotoInfo(photo_path='images/stock/phone_photo (10).jpg', thumbnail_photo_path='NOT IMPLEMENTED', is_screenshot=False, tags=['building', 'pillar', 'doorway', 'elevator', 'exit', 'person', 'man', 'mall', 'stand', 'store', 'storefront', 'woman'], part_of_which_album=[], face_ids=[], metadata_fields={'SourceFile': 'images/stock/phone_photo (10).jpg', 'FileName': 'phone_photo (10).jpg', 'Directory': 'images/stock', 'FileSize': '2.8 MiB', 'FileAccessDate': '2024:01:24', 'FileAccessTime': '22:49:49', 'TimeZone': '+05:30', 'FileType': 'JPEG', 'Model': 'A063', 'ISO': 160, 'FNumber': 1.9, 'ExposureTime': '1/29', 'FocalLength': '5.6 mm', 'CreateDate': '2024:01:05', 'CreateTime': None, 'DateTimeOriginal': '2024:01:05 18:05:29', 'ShutterSpeedValue': '1/29', 'GPSLatitudeRef': 'North', 'GPSLongitudeRef': 'East', 'Make': 'Nothing', 'ImageWidth': 4096, 'ImageHeight': 3072, 'Megapixels': 12.6, 'ShutterSpeed': '1/29', 'GPSLatitude': '12 deg 59\\' 48.87\" N', 'GPSLongitude': '77 deg 41\\' 46.81\" E', 'Location': 'West End Road, ITI Industrial Estate, Devasandra, Mahadevapura Zone, Bengaluru, Bangalore East, Bengaluru Urban District, Karnataka, 560048, India'}, summary='In this image, there is a building with a prominent pillar at its entrance. The doorway leads to an elevator, likely indicating multiple floors inside. Nearby, there is an exit for individuals to leave the building. In front of the entrance, a person can be seen standing, specifically a man. The building appears to be a mall, perhaps housing various stores and shops. Adjacent to the man, there is a woman, further suggesting the presence of people in this bustling environment.'),\n",
       " PhotoInfo(photo_path='images/stock/image2.jpg', thumbnail_photo_path='NOT IMPLEMENTED', is_screenshot=False, tags=['shed', 'building', 'cabin', 'fog', 'hill', 'hillside', 'person', 'hut', 'lake', 'man', 'sea', 'red', 'shelter', 'stand', 'walk', 'water'], part_of_which_album=[], face_ids=[], metadata_fields={'SourceFile': 'images/stock/image2.jpg', 'FileName': 'image2.jpg', 'Directory': 'images/stock', 'FileSize': '82 KiB', 'FileAccessDate': '2024:01:24', 'FileAccessTime': '15:00:57', 'TimeZone': '+05:30', 'FileType': 'JPEG', 'Model': None, 'ISO': None, 'FNumber': None, 'ExposureTime': None, 'FocalLength': None, 'CreateDate': None, 'CreateTime': None, 'DateTimeOriginal': None, 'ShutterSpeedValue': None, 'GPSLatitudeRef': None, 'GPSLongitudeRef': None, 'Make': None, 'ImageWidth': 819, 'ImageHeight': 1024, 'Megapixels': 0.839, 'ShutterSpeed': None, 'GPSLatitude': None, 'GPSLongitude': None, 'GPSPosition': None}, summary='In the midst of a foggy hillside, a person stands near a red hut perched on a hill. This quaint cabin, resembling a shed, overlooks a serene lake and the vast expanse of the sea. With water gently lapping the shores, a man can be seen walking by, seeking shelter in this picturesque setting.'),\n",
       " PhotoInfo(photo_path='images/stock/image4.jpeg', thumbnail_photo_path='NOT IMPLEMENTED', is_screenshot=False, tags=['armchair', 'break', 'cat', 'chair', 'close-up', 'pad', 'eye', 'gray', 'green', 'hassock', 'lay', 'pillow', 'relax', 'stool'], part_of_which_album=[], face_ids=[], metadata_fields={'SourceFile': 'images/stock/image4.jpeg', 'FileName': 'image4.jpeg', 'Directory': 'images/stock', 'FileSize': '215 KiB', 'FileAccessDate': '2024:01:24', 'FileAccessTime': '15:00:57', 'TimeZone': '+05:30', 'FileType': 'JPEG', 'Model': None, 'ISO': None, 'FNumber': None, 'ExposureTime': None, 'FocalLength': None, 'CreateDate': None, 'CreateTime': None, 'DateTimeOriginal': None, 'ShutterSpeedValue': None, 'GPSLatitudeRef': None, 'GPSLongitudeRef': None, 'Make': None, 'ImageWidth': 1280, 'ImageHeight': 960, 'Megapixels': 1.2, 'ShutterSpeed': None, 'GPSLatitude': None, 'GPSLongitude': None, 'GPSPosition': None}, summary='In this image, there is an armchair with a gray padded seat. A cat is laying on the chair, relaxing. The cat has green eyes and the chair itself is a close-up view. There is also a stool or hassock nearby, along with a pillow on the chair for added comfort. The overall atmosphere seems serene and peaceful.'),\n",
       " PhotoInfo(photo_path='images/stock/cat_and_newspaper.jpg', thumbnail_photo_path='NOT IMPLEMENTED', is_screenshot=False, tags=['book', 'cat', 'curl', 'lay', 'magazine', 'paper', 'sleep', 'stack', 'white'], part_of_which_album=[], face_ids=[], metadata_fields={'SourceFile': 'images/stock/cat_and_newspaper.jpg', 'FileName': 'cat_and_newspaper.jpg', 'Directory': 'images/stock', 'FileSize': '1635 KiB', 'FileAccessDate': '2024:01:24', 'FileAccessTime': '15:00:57', 'TimeZone': '+05:30', 'FileType': 'JPEG', 'Model': None, 'ISO': None, 'FNumber': None, 'ExposureTime': None, 'FocalLength': None, 'CreateDate': None, 'CreateTime': None, 'DateTimeOriginal': None, 'ShutterSpeedValue': None, 'GPSLatitudeRef': None, 'GPSLongitudeRef': None, 'Make': None, 'ImageWidth': 3840, 'ImageHeight': 2160, 'Megapixels': 8.3, 'ShutterSpeed': None, 'GPSLatitude': None, 'GPSLongitude': None, 'GPSPosition': None}, summary=\"In the image, a white cat is peacefully asleep, curled up on a stack of books and magazines. The cat's serene position is accentuated by the surrounding papers and crisp pages, creating a tranquil scene.\"),\n",
       " PhotoInfo(photo_path='images/stock/phone_photo (1).jpg', thumbnail_photo_path='NOT IMPLEMENTED', is_screenshot=False, tags=['building', 'christmas light', 'decorate', 'light', 'night', 'pole', 'street sign', 'string', 'tree'], part_of_which_album=[], face_ids=[], metadata_fields={'SourceFile': 'images/stock/phone_photo (1).jpg', 'FileName': 'phone_photo (1).jpg', 'Directory': 'images/stock', 'FileSize': '4.1 MiB', 'FileAccessDate': '2024:01:24', 'FileAccessTime': '22:49:49', 'TimeZone': '+05:30', 'FileType': 'JPEG', 'Model': 'A063', 'ISO': 103, 'FNumber': 1.9, 'ExposureTime': '1/60', 'FocalLength': '5.6 mm', 'CreateDate': '2024:01:05', 'CreateTime': None, 'DateTimeOriginal': '2024:01:05 18:06:10', 'ShutterSpeedValue': '1/60', 'GPSLatitudeRef': 'North', 'GPSLongitudeRef': 'East', 'Make': 'Nothing', 'ImageWidth': 4096, 'ImageHeight': 3072, 'Megapixels': 12.6, 'ShutterSpeed': '1/60', 'GPSLatitude': '12 deg 59\\' 48.51\" N', 'GPSLongitude': '77 deg 41\\' 46.86\" E', 'Location': 'Phoenix Market City, Way to Parking, Phoenix Market City, Devasandra, Mahadevapura Zone, Bengaluru, Bangalore East, Bengaluru Urban District, Karnataka, 560048, India'}, summary='In the dimly lit night, a building stands tall amidst the festive ambiance of Christmas lights. Decorated with an array of vibrant colors, the lights create a mesmerizing spectacle that illuminates the surroundings. From a nearby pole, a street sign indicates the location, marking the festive spirit in the air. Stretching across the scene, a string of lights adds a touch of enchantment, casting a warm glow on the scene below. Adjacent to the building, a majestic tree stands, adorned with its own set of dazzling lights, contributing to the joyous atmosphere.'),\n",
       " PhotoInfo(photo_path='images/stock/image9.jpeg', thumbnail_photo_path='NOT IMPLEMENTED', is_screenshot=False, tags=['amusement park', 'amusement ride', 'carnival', 'fair', 'ferris wheel', 'ride', 'coaster', 'wheel'], part_of_which_album=[], face_ids=[], metadata_fields={'SourceFile': 'images/stock/image9.jpeg', 'FileName': 'image9.jpeg', 'Directory': 'images/stock', 'FileSize': '320 KiB', 'FileAccessDate': '2024:01:24', 'FileAccessTime': '00:12:00', 'TimeZone': '+05:30', 'FileType': 'JPEG', 'Model': None, 'ISO': None, 'FNumber': None, 'ExposureTime': None, 'FocalLength': None, 'CreateDate': None, 'CreateTime': None, 'DateTimeOriginal': None, 'ShutterSpeedValue': None, 'GPSLatitudeRef': None, 'GPSLongitudeRef': None, 'Make': None, 'ImageWidth': 1280, 'ImageHeight': 853, 'Megapixels': 1.1, 'ShutterSpeed': None, 'GPSLatitude': None, 'GPSLongitude': None, 'GPSPosition': None}, summary='In the image, there is an amusement park featuring a variety of thrilling rides and attractions. The vibrant carnival atmosphere is evident with the presence of a fair filled with excitement. One notable feature is a towering ferris wheel, which stands tall against the sky. The amusement park offers an assortment of captivating rides, including a coaster that promises exhilarating twists and turns. Lastly, there is a magnificent wheel, possibly another amusement ride, serving as an additional source of amusement and enjoyment for visitors at the park.'),\n",
       " PhotoInfo(photo_path='images/stock/image1.jpg', thumbnail_photo_path='NOT IMPLEMENTED', is_screenshot=False, tags=['boat', 'cargo', 'cargo ship', 'container', 'container ship', 'crane', 'dock', 'harbor', 'load', 'shipping container', 'vessel'], part_of_which_album=[], face_ids=[], metadata_fields={'SourceFile': 'images/stock/image1.jpg', 'FileName': 'image1.jpg', 'Directory': 'images/stock', 'FileSize': '113 KiB', 'FileAccessDate': '2024:01:24', 'FileAccessTime': '15:00:58', 'TimeZone': '+05:30', 'FileType': 'JPEG', 'Model': None, 'ISO': None, 'FNumber': None, 'ExposureTime': None, 'FocalLength': None, 'CreateDate': None, 'CreateTime': None, 'DateTimeOriginal': None, 'ShutterSpeedValue': None, 'GPSLatitudeRef': None, 'GPSLongitudeRef': None, 'Make': None, 'ImageWidth': 819, 'ImageHeight': 1024, 'Megapixels': 0.839, 'ShutterSpeed': None, 'GPSLatitude': None, 'GPSLongitude': None, 'GPSPosition': None}, summary='In the image, there is a cargo ship docked at a harbor. The large vessel is loaded with numerous shipping containers. A crane can be seen nearby, suggesting the ongoing activity of loading or unloading cargo. The dock provides a resting place for the boat, serving as a temporary base for its transportation operations.'),\n",
       " PhotoInfo(photo_path='images/stock/phone_photo (8).jpg', thumbnail_photo_path='NOT IMPLEMENTED', is_screenshot=False, tags=['alley', 'building', 'lead to', 'narrow', 'stair', 'tree'], part_of_which_album=[], face_ids=[], metadata_fields={'SourceFile': 'images/stock/phone_photo (8).jpg', 'FileName': 'phone_photo (8).jpg', 'Directory': 'images/stock', 'FileSize': '3.1 MiB', 'FileAccessDate': '2024:01:24', 'FileAccessTime': '23:17:09', 'TimeZone': '+05:30', 'FileType': 'JPEG', 'Model': 'A063', 'ISO': 358, 'FNumber': 1.9, 'ExposureTime': '1/50', 'FocalLength': '5.6 mm', 'CreateDate': '2024:01:01', 'CreateTime': None, 'DateTimeOriginal': '2024:01:01 18:22:24', 'ShutterSpeedValue': '1/50', 'GPSLatitudeRef': None, 'GPSLongitudeRef': None, 'Make': 'Nothing', 'ImageWidth': 4096, 'ImageHeight': 3072, 'Megapixels': 12.6, 'ShutterSpeed': '1/50', 'GPSLatitude': None, 'GPSLongitude': None, 'GPSPosition': None}, summary='In this image, there is an alley with a narrow path that is flanked by a building. The alley seems to lead to a staircase. A tree can be seen in the vicinity, creating a natural element in the scene.'),\n",
       " PhotoInfo(photo_path='images/stock/image8.jpeg', thumbnail_photo_path='NOT IMPLEMENTED', is_screenshot=False, tags=['building', 'car', 'christmas light', 'city', 'city street', 'drive', 'dusk', 'fill', 'night', 'night view', 'road', 'skyscraper', 'traffic light', 'street scene', 'urban'], part_of_which_album=[], face_ids=[], metadata_fields={'SourceFile': 'images/stock/image8.jpeg', 'FileName': 'image8.jpeg', 'Directory': 'images/stock', 'FileSize': '292 KiB', 'FileAccessDate': '2024:01:24', 'FileAccessTime': '15:00:58', 'TimeZone': '+05:30', 'FileType': 'JPEG', 'Model': None, 'ISO': None, 'FNumber': None, 'ExposureTime': None, 'FocalLength': None, 'CreateDate': None, 'CreateTime': None, 'DateTimeOriginal': None, 'ShutterSpeedValue': None, 'GPSLatitudeRef': None, 'GPSLongitudeRef': None, 'Make': None, 'ImageWidth': 1280, 'ImageHeight': 960, 'Megapixels': 1.2, 'ShutterSpeed': None, 'GPSLatitude': None, 'GPSLongitude': None, 'GPSPosition': None}, summary='In the image, a city street at dusk is depicted. The scene is filled with urban elements such as skyscrapers and buildings. A road cuts through the city, with a car driving along it. The city is illuminated by Christmas lights, adding a festive touch to the night view. Traffic lights are seen, indicating the bustling nature of the city. Overall, the image captures the vibrant and lively atmosphere of the urban setting at night.'),\n",
       " PhotoInfo(photo_path='images/stock/phone_photo (3).jpg', thumbnail_photo_path='NOT IMPLEMENTED', is_screenshot=False, tags=['bed', 'bedcover', 'blanket', 'closet', 'comfort', 'computer', 'laptop', 'open', 'sit', 'sparkler'], part_of_which_album=[], face_ids=[], metadata_fields={'SourceFile': 'images/stock/phone_photo (3).jpg', 'FileName': 'phone_photo (3).jpg', 'Directory': 'images/stock', 'FileSize': '3.1 MiB', 'FileAccessDate': '2024:01:24', 'FileAccessTime': '22:50:08', 'TimeZone': '+05:30', 'FileType': 'JPEG', 'Model': 'A063', 'ISO': 402, 'FNumber': 1.9, 'ExposureTime': '1/33', 'FocalLength': '5.6 mm', 'CreateDate': '2023:12:27', 'CreateTime': None, 'DateTimeOriginal': '2023:12:27 22:44:44', 'ShutterSpeedValue': None, 'GPSLatitudeRef': 'North', 'GPSLongitudeRef': 'East', 'Make': 'Nothing', 'ImageWidth': 3072, 'ImageHeight': 4096, 'Megapixels': 12.6, 'ShutterSpeed': '1/33', 'GPSLatitude': '12 deg 59\\' 1.67\" N', 'GPSLongitude': '77 deg 41\\' 20.69\" E', 'Location': 'Kaggadasapura, Vijnana Nagar, Mahadevapura Zone, Bengaluru, Bangalore East, Bengaluru Urban District, Karnataka, 560048, India'}, summary='In the image, there is a bed with a cozy bedcover and blanket neatly spread over it. Adjacent to the bed is a closet, providing storage space for personal belongings. On the bed, a person is sitting comfortably, leaning against a stack of pillows, with a laptop computer open in front of them. In their hand, they hold a sparkler, which radiates a soft glow in the surrounding area.'),\n",
       " PhotoInfo(photo_path='images/stock/phone_photo (6).jpg', thumbnail_photo_path='NOT IMPLEMENTED', is_screenshot=False, tags=['beam', 'building', 'lamp', 'ceiling', 'ceiling fan', 'pillar', 'floor', 'hang', 'light fixture', 'hallway', 'red', 'room', 'wall lamp'], part_of_which_album=[], face_ids=[], metadata_fields={'SourceFile': 'images/stock/phone_photo (6).jpg', 'FileName': 'phone_photo (6).jpg', 'Directory': 'images/stock', 'FileSize': '2.7 MiB', 'FileAccessDate': '2024:01:24', 'FileAccessTime': '22:49:49', 'TimeZone': '+05:30', 'FileType': 'JPEG', 'Model': 'A063', 'ISO': 100, 'FNumber': 1.9, 'ExposureTime': '1/142', 'FocalLength': '5.6 mm', 'CreateDate': '2023:12:28', 'CreateTime': None, 'DateTimeOriginal': '2023:12:28 19:02:53', 'ShutterSpeedValue': '1/142', 'GPSLatitudeRef': 'North', 'GPSLongitudeRef': 'East', 'Make': 'Nothing', 'ImageWidth': 4096, 'ImageHeight': 3072, 'Megapixels': 12.6, 'ShutterSpeed': '1/142', 'GPSLatitude': '12 deg 58\\' 50.59\" N', 'GPSLongitude': '77 deg 33\\' 49.33\" E', 'Location': '3, Old Mysuru Road, Okalipura, Okalipuram Ward, West Zone, Bengaluru, Bangalore North, Bengaluru Urban District, Karnataka, 560009, India'}, summary='In a spacious room with high ceilings and red walls, a long hallway stretches into the distance. The hallway is well-lit by multiple light fixtures hanging from the ceiling, including a prominent beam running along its length. A ceiling fan is installed, providing a cool breeze under the bright illumination. The room is adorned with pillars, and the floor is visible in the image. Wall lamps are also present, adding extra sources of light to the space.'),\n",
       " PhotoInfo(photo_path='images/stock/image10.jpeg', thumbnail_photo_path='NOT IMPLEMENTED', is_screenshot=False, tags=['blanket', 'car', 'hill', 'jump', 'person', 'man', 'ski slope', 'rail', 'ramp', 'ride', 'snowboard', 'skier', 'slope', 'snow', 'snowboarder', 'snowy', 'trick'], part_of_which_album=[], face_ids=[], metadata_fields={'SourceFile': 'images/stock/image10.jpeg', 'FileName': 'image10.jpeg', 'Directory': 'images/stock', 'FileSize': '190 KiB', 'FileAccessDate': '2024:01:24', 'FileAccessTime': '00:12:00', 'TimeZone': '+05:30', 'FileType': 'JPEG', 'Model': None, 'ISO': None, 'FNumber': None, 'ExposureTime': None, 'FocalLength': None, 'CreateDate': None, 'CreateTime': None, 'DateTimeOriginal': None, 'ShutterSpeedValue': None, 'GPSLatitudeRef': None, 'GPSLongitudeRef': None, 'Make': None, 'ImageWidth': 1280, 'ImageHeight': 960, 'Megapixels': 1.2, 'ShutterSpeed': None, 'GPSLatitude': None, 'GPSLongitude': None, 'GPSPosition': None}, summary='In the snowy mountains, a person, specifically a man, is seen on a ski slope with a snowboard. The hill is covered in snow, providing the perfect conditions for snowboarding. The man is wearing warm clothes and is ready to perform a trick. As he gains speed, he approaches a rail that is set up along the slope. With a sudden jump, he launches himself off a ramp, soaring through the air. The blanket of white snow below him contrasts with the blue sky above. The man skillfully maneuvers his snowboard, showcasing his expertise as a snowboarder.'),\n",
       " PhotoInfo(photo_path='images/stock/phone_photo (4).jpg', thumbnail_photo_path='NOT IMPLEMENTED', is_screenshot=False, tags=['blanket', 'cloth', 'container', 'dip', 'plate', 'floor', 'food', 'grass', 'person', 'lunch', 'mat', 'meal', 'picnic', 'picnic table', 'platter', 'sit', 'tray', 'woman'], part_of_which_album=[], face_ids=[], metadata_fields={'SourceFile': 'images/stock/phone_photo (4).jpg', 'FileName': 'phone_photo (4).jpg', 'Directory': 'images/stock', 'FileSize': '5.4 MiB', 'FileAccessDate': '2024:01:24', 'FileAccessTime': '22:50:38', 'TimeZone': '+05:30', 'FileType': 'JPEG', 'Model': 'A063', 'ISO': 100, 'FNumber': 1.9, 'ExposureTime': '1/2032', 'FocalLength': '5.6 mm', 'CreateDate': '2023:12:28', 'CreateTime': None, 'DateTimeOriginal': '2023:12:28 12:11:00', 'ShutterSpeedValue': '1/2031', 'GPSLatitudeRef': 'North', 'GPSLongitudeRef': 'East', 'Make': 'Nothing', 'ImageWidth': 4096, 'ImageHeight': 3072, 'Megapixels': 12.6, 'ShutterSpeed': '1/2032', 'GPSLatitude': '12 deg 58\\' 42.91\" N', 'GPSLongitude': '77 deg 35\\' 44.57\" E', 'Location': \"Tree 2189, Queen's Road, Sampangiram Nagar Ward, East Zone, Bengaluru, Bangalore North, Bengaluru Urban District, Karnataka, 560001, India\"}, summary='A woman sits on a picnic table, enjoying a meal in the open air. She sits on a mat spread across the grass, with a blanket under her to provide comfort. On the table, there is a plate and a platter filled with tasty food. A tray and a container are also present, suggesting a variety of delicious dips to accompany the meal. The woman is relaxed, taking in the pleasant surroundings while holding the tray.'),\n",
       " PhotoInfo(photo_path='images/stock/camera.jpg', thumbnail_photo_path='NOT IMPLEMENTED', is_screenshot=False, tags=['blanket', 'cat', 'chair', 'hide', 'neckband', 'paw', 'stare', 'tabby', 'toy'], part_of_which_album=[], face_ids=[], metadata_fields={'SourceFile': 'images/stock/camera.jpg', 'FileName': 'camera.jpg', 'Directory': 'images/stock', 'FileSize': '8.5 MiB', 'FileAccessDate': '2024:01:24', 'FileAccessTime': '15:01:01', 'TimeZone': '+05:30', 'FileType': 'JPEG', 'Model': 'A063', 'ISO': 378, 'FNumber': 1.9, 'ExposureTime': '1/33', 'FocalLength': '5.6 mm', 'CreateDate': '2023:12:13', 'CreateTime': None, 'DateTimeOriginal': '2023:12:13 11:17:40', 'ShutterSpeedValue': '1/33', 'GPSLatitudeRef': None, 'GPSLongitudeRef': None, 'Make': 'Nothing', 'ImageWidth': 4096, 'ImageHeight': 3072, 'Megapixels': 12.6, 'ShutterSpeed': '1/33', 'GPSLatitude': None, 'GPSLongitude': None, 'GPSPosition': None}, summary=\"In the image, a tabby cat can be seen staring intently from atop a chair. The cat's paws rest comfortably on a soft blanket, while its neckband accentuates its elegant appearance. Nearby, a toy lies within reach, tempting the curious feline to play and frolic. The cat seems to hide amongst the peaceful surroundings, fully engaged in its surroundings.\"),\n",
       " PhotoInfo(photo_path='images/stock/phone_photo (9).jpg', thumbnail_photo_path='NOT IMPLEMENTED', is_screenshot=False, tags=['array', 'carrot', 'chopstick', 'container', 'table', 'dinning table', 'plate', 'fill', 'food', 'peak', 'platter', 'seafood', 'sushi', 'tray', 'vegetable'], part_of_which_album=[], face_ids=[], metadata_fields={'SourceFile': 'images/stock/phone_photo (9).jpg', 'FileName': 'phone_photo (9).jpg', 'Directory': 'images/stock', 'FileSize': '2.5 MiB', 'FileAccessDate': '2024:01:24', 'FileAccessTime': '22:50:08', 'TimeZone': '+05:30', 'FileType': 'JPEG', 'Model': 'A063', 'ISO': 1390, 'FNumber': 1.9, 'ExposureTime': '1/33', 'FocalLength': '5.6 mm', 'CreateDate': '2024:01:04', 'CreateTime': None, 'DateTimeOriginal': '2024:01:04 21:35:57', 'ShutterSpeedValue': None, 'GPSLatitudeRef': 'North', 'GPSLongitudeRef': 'East', 'Make': 'Nothing', 'ImageWidth': 3072, 'ImageHeight': 4096, 'Megapixels': 12.6, 'ShutterSpeed': '1/33', 'GPSLatitude': '12 deg 58\\' 4.62\" N', 'GPSLongitude': '77 deg 36\\' 26.57\" E', 'Location': 'Hae Kum Gang, 20, Castle Street, Ashok Nagar, Shantala Nagar, East Zone, Bengaluru, Bangalore North, Bengaluru Urban District, Karnataka, 560025, India'}, summary='On a dining table, there is a container filled with an array of delectable dishes. A plate sits on the table, holding a platter of fresh sushi, vibrant vegetables, and succulent seafood. The chopsticks rest atop the plate, ready to be used to enjoy this tantalizing meal. The peak of culinary delight is displayed on a tray, with an assortment of colorful carrots perfectly arranged and showcased for those who appreciate the artistry of food.'),\n",
       " PhotoInfo(photo_path='images/stock/phone_photo (7).jpg', thumbnail_photo_path='NOT IMPLEMENTED', is_screenshot=False, tags=['alley', 'building', 'car', 'palm tree', 'park', 'toy car', 'yellow'], part_of_which_album=[], face_ids=[], metadata_fields={'SourceFile': 'images/stock/phone_photo (7).jpg', 'FileName': 'phone_photo (7).jpg', 'Directory': 'images/stock', 'FileSize': '4.2 MiB', 'FileAccessDate': '2024:01:24', 'FileAccessTime': '22:50:08', 'TimeZone': '+05:30', 'FileType': 'JPEG', 'Model': 'A063', 'ISO': 100, 'FNumber': 1.9, 'ExposureTime': '1/4851', 'FocalLength': '5.6 mm', 'CreateDate': '2024:01:01', 'CreateTime': None, 'DateTimeOriginal': '2024:01:01 11:31:18', 'ShutterSpeedValue': '1/4851', 'GPSLatitudeRef': 'North', 'GPSLongitudeRef': 'East', 'Make': 'Nothing', 'ImageWidth': 4096, 'ImageHeight': 3072, 'Megapixels': 12.6, 'ShutterSpeed': '1/4851', 'GPSLatitude': '15 deg 14\\' 57.74\" N', 'GPSLongitude': '74 deg 37\\' 15.87\" E', 'Location': 'Dandeli, Dandeli taluku, Uttara Kannada District, Karnataka, 581325, India'}, summary='In this image, we see an alley nestled between two buildings. A car is parked beside the sidewalk, while a vibrant palm tree stands tall nearby. The alley leads to a park, offering a serene and green space for leisurely activities. Amidst the scenery, a yellow toy car catches our attention, providing a playful touch to the surroundings.')]"
      ]
     },
     "execution_count": 6,
     "metadata": {},
     "output_type": "execute_result"
    }
   ],
   "source": [
    "# Image -> Metadata and Tags and is_screenshot -> PhotoInfo\n",
    "from image_utils import process_image, process_image_list\n",
    "import asyncio\n",
    "\n",
    "# photo_info = asyncio.run(process_image(image_paths[0]))\n",
    "photo_info = process_image_list(image_paths, injestion = False, get_tags = False)\n",
    "photo_info "
   ]
  },
  {
   "cell_type": "code",
   "execution_count": 7,
   "metadata": {},
   "outputs": [
    {
     "data": {
      "application/vnd.jupyter.widget-view+json": {
       "model_id": "f5f366684c424089a43ea817ad0cfc4f",
       "version_major": 2,
       "version_minor": 0
      },
      "text/plain": [
       "Generating embeddings:   0%|          | 0/21 [00:00<?, ?it/s]"
      ]
     },
     "metadata": {},
     "output_type": "display_data"
    }
   ],
   "source": [
    "# Add image to the index\n",
    "from index import get_nodes_from_objects\n",
    "\n",
    "if photo_info is not None:\n",
    "    nodes = get_nodes_from_objects(photo_info, image_files=image_paths)\n",
    "    index._add_nodes_to_index(nodes = nodes, index_struct=index.index_struct, show_progress=True)"
   ]
  },
  {
   "cell_type": "markdown",
   "metadata": {},
   "source": [
    "## Retriver"
   ]
  },
  {
   "cell_type": "code",
   "execution_count": 8,
   "metadata": {},
   "outputs": [],
   "source": [
    "from llama_index.retrievers import VectorIndexAutoRetriever\n",
    "from index import define_vector_info\n",
    "\n",
    "vector_store_info = define_vector_info()\n",
    "\n",
    "retriever = VectorIndexAutoRetriever(\n",
    "    index,\n",
    "    vector_store_info=vector_store_info,\n",
    "    similarity_top_k=4,\n",
    "    empty_query_top_k=10,  # if only metadata filters are specified, this is the limit\n",
    "    verbose=True,\n",
    ")"
   ]
  },
  {
   "cell_type": "markdown",
   "metadata": {},
   "source": [
    "## Query"
   ]
  },
  {
   "cell_type": "code",
   "execution_count": 9,
   "metadata": {},
   "outputs": [],
   "source": [
    "# from PIL import Image\n",
    "import requests\n",
    "from io import BytesIO\n",
    "import matplotlib.pyplot as plt\n",
    "from IPython.display import Image\n",
    "from typing import List\n",
    "from llama_index.schema import TextNode \n",
    "\n",
    "def display_response(nodes: List[TextNode]):\n",
    "    \"\"\"Display response.\"\"\"\n",
    "    for node in nodes:\n",
    "        print(node.get_content(metadata_mode=\"all\"))\n",
    "        # img = Image.open(open(node.metadata[\"image_file\"], 'rb'))\n",
    "        display(Image(filename=node.metadata[\"image_metadata\"][\"SourceFile\"], width=200))"
   ]
  },
  {
   "cell_type": "code",
   "execution_count": 18,
   "metadata": {},
   "outputs": [
    {
     "name": "stdout",
     "output_type": "stream",
     "text": [
      "Using query str: pictures clicked at low ISO\n",
      "Using filters: [('image_metadata.ISO', '<=', 'low')]\n"
     ]
    },
    {
     "ename": "RuntimeError",
     "evalue": "CUDA error: unknown error\nCUDA kernel errors might be asynchronously reported at some other API call, so the stacktrace below might be incorrect.\nFor debugging consider passing CUDA_LAUNCH_BLOCKING=1.\nCompile with `TORCH_USE_CUDA_DSA` to enable device-side assertions.\n",
     "output_type": "error",
     "traceback": [
      "\u001b[0;31m---------------------------------------------------------------------------\u001b[0m",
      "\u001b[0;31mRuntimeError\u001b[0m                              Traceback (most recent call last)",
      "Cell \u001b[0;32mIn[18], line 1\u001b[0m\n\u001b[0;32m----> 1\u001b[0m nodes \u001b[38;5;241m=\u001b[39m \u001b[43mretriever\u001b[49m\u001b[38;5;241;43m.\u001b[39;49m\u001b[43mretrieve\u001b[49m\u001b[43m(\u001b[49m\n\u001b[1;32m      2\u001b[0m \u001b[43m    \u001b[49m\u001b[38;5;124;43m\"\u001b[39;49m\u001b[38;5;124;43mShow me pictures I clicked at low ISO\u001b[39;49m\u001b[38;5;124;43m\"\u001b[39;49m\n\u001b[1;32m      3\u001b[0m \u001b[43m)\u001b[49m\n\u001b[1;32m      4\u001b[0m display_response(nodes)\n",
      "File \u001b[0;32m~/miniconda3/envs/hf/lib/python3.11/site-packages/llama_index/core/base_retriever.py:224\u001b[0m, in \u001b[0;36mBaseRetriever.retrieve\u001b[0;34m(self, str_or_query_bundle)\u001b[0m\n\u001b[1;32m    219\u001b[0m \u001b[38;5;28;01mwith\u001b[39;00m \u001b[38;5;28mself\u001b[39m\u001b[38;5;241m.\u001b[39mcallback_manager\u001b[38;5;241m.\u001b[39mas_trace(\u001b[38;5;124m\"\u001b[39m\u001b[38;5;124mquery\u001b[39m\u001b[38;5;124m\"\u001b[39m):\n\u001b[1;32m    220\u001b[0m     \u001b[38;5;28;01mwith\u001b[39;00m \u001b[38;5;28mself\u001b[39m\u001b[38;5;241m.\u001b[39mcallback_manager\u001b[38;5;241m.\u001b[39mevent(\n\u001b[1;32m    221\u001b[0m         CBEventType\u001b[38;5;241m.\u001b[39mRETRIEVE,\n\u001b[1;32m    222\u001b[0m         payload\u001b[38;5;241m=\u001b[39m{EventPayload\u001b[38;5;241m.\u001b[39mQUERY_STR: query_bundle\u001b[38;5;241m.\u001b[39mquery_str},\n\u001b[1;32m    223\u001b[0m     ) \u001b[38;5;28;01mas\u001b[39;00m retrieve_event:\n\u001b[0;32m--> 224\u001b[0m         nodes \u001b[38;5;241m=\u001b[39m \u001b[38;5;28;43mself\u001b[39;49m\u001b[38;5;241;43m.\u001b[39;49m\u001b[43m_retrieve\u001b[49m\u001b[43m(\u001b[49m\u001b[43mquery_bundle\u001b[49m\u001b[43m)\u001b[49m\n\u001b[1;32m    225\u001b[0m         nodes \u001b[38;5;241m=\u001b[39m \u001b[38;5;28mself\u001b[39m\u001b[38;5;241m.\u001b[39m_handle_recursive_retrieval(query_bundle, nodes)\n\u001b[1;32m    226\u001b[0m         retrieve_event\u001b[38;5;241m.\u001b[39mon_end(\n\u001b[1;32m    227\u001b[0m             payload\u001b[38;5;241m=\u001b[39m{EventPayload\u001b[38;5;241m.\u001b[39mNODES: nodes},\n\u001b[1;32m    228\u001b[0m         )\n",
      "File \u001b[0;32m~/miniconda3/envs/hf/lib/python3.11/site-packages/llama_index/core/base_auto_retriever.py:37\u001b[0m, in \u001b[0;36mBaseAutoRetriever._retrieve\u001b[0;34m(self, query_bundle)\u001b[0m\n\u001b[1;32m     35\u001b[0m retrieval_spec \u001b[38;5;241m=\u001b[39m \u001b[38;5;28mself\u001b[39m\u001b[38;5;241m.\u001b[39mgenerate_retrieval_spec(query_bundle)\n\u001b[1;32m     36\u001b[0m retriever, new_query_bundle \u001b[38;5;241m=\u001b[39m \u001b[38;5;28mself\u001b[39m\u001b[38;5;241m.\u001b[39m_build_retriever_from_spec(retrieval_spec)\n\u001b[0;32m---> 37\u001b[0m \u001b[38;5;28;01mreturn\u001b[39;00m \u001b[43mretriever\u001b[49m\u001b[38;5;241;43m.\u001b[39;49m\u001b[43mretrieve\u001b[49m\u001b[43m(\u001b[49m\u001b[43mnew_query_bundle\u001b[49m\u001b[43m)\u001b[49m\n",
      "File \u001b[0;32m~/miniconda3/envs/hf/lib/python3.11/site-packages/llama_index/core/base_retriever.py:224\u001b[0m, in \u001b[0;36mBaseRetriever.retrieve\u001b[0;34m(self, str_or_query_bundle)\u001b[0m\n\u001b[1;32m    219\u001b[0m \u001b[38;5;28;01mwith\u001b[39;00m \u001b[38;5;28mself\u001b[39m\u001b[38;5;241m.\u001b[39mcallback_manager\u001b[38;5;241m.\u001b[39mas_trace(\u001b[38;5;124m\"\u001b[39m\u001b[38;5;124mquery\u001b[39m\u001b[38;5;124m\"\u001b[39m):\n\u001b[1;32m    220\u001b[0m     \u001b[38;5;28;01mwith\u001b[39;00m \u001b[38;5;28mself\u001b[39m\u001b[38;5;241m.\u001b[39mcallback_manager\u001b[38;5;241m.\u001b[39mevent(\n\u001b[1;32m    221\u001b[0m         CBEventType\u001b[38;5;241m.\u001b[39mRETRIEVE,\n\u001b[1;32m    222\u001b[0m         payload\u001b[38;5;241m=\u001b[39m{EventPayload\u001b[38;5;241m.\u001b[39mQUERY_STR: query_bundle\u001b[38;5;241m.\u001b[39mquery_str},\n\u001b[1;32m    223\u001b[0m     ) \u001b[38;5;28;01mas\u001b[39;00m retrieve_event:\n\u001b[0;32m--> 224\u001b[0m         nodes \u001b[38;5;241m=\u001b[39m \u001b[38;5;28;43mself\u001b[39;49m\u001b[38;5;241;43m.\u001b[39;49m\u001b[43m_retrieve\u001b[49m\u001b[43m(\u001b[49m\u001b[43mquery_bundle\u001b[49m\u001b[43m)\u001b[49m\n\u001b[1;32m    225\u001b[0m         nodes \u001b[38;5;241m=\u001b[39m \u001b[38;5;28mself\u001b[39m\u001b[38;5;241m.\u001b[39m_handle_recursive_retrieval(query_bundle, nodes)\n\u001b[1;32m    226\u001b[0m         retrieve_event\u001b[38;5;241m.\u001b[39mon_end(\n\u001b[1;32m    227\u001b[0m             payload\u001b[38;5;241m=\u001b[39m{EventPayload\u001b[38;5;241m.\u001b[39mNODES: nodes},\n\u001b[1;32m    228\u001b[0m         )\n",
      "File \u001b[0;32m~/miniconda3/envs/hf/lib/python3.11/site-packages/llama_index/indices/vector_store/retrievers/retriever.py:88\u001b[0m, in \u001b[0;36mVectorIndexRetriever._retrieve\u001b[0;34m(self, query_bundle)\u001b[0m\n\u001b[1;32m     85\u001b[0m \u001b[38;5;28;01mif\u001b[39;00m \u001b[38;5;28mself\u001b[39m\u001b[38;5;241m.\u001b[39m_vector_store\u001b[38;5;241m.\u001b[39mis_embedding_query:\n\u001b[1;32m     86\u001b[0m     \u001b[38;5;28;01mif\u001b[39;00m query_bundle\u001b[38;5;241m.\u001b[39membedding \u001b[38;5;129;01mis\u001b[39;00m \u001b[38;5;28;01mNone\u001b[39;00m \u001b[38;5;129;01mand\u001b[39;00m \u001b[38;5;28mlen\u001b[39m(query_bundle\u001b[38;5;241m.\u001b[39membedding_strs) \u001b[38;5;241m>\u001b[39m \u001b[38;5;241m0\u001b[39m:\n\u001b[1;32m     87\u001b[0m         query_bundle\u001b[38;5;241m.\u001b[39membedding \u001b[38;5;241m=\u001b[39m (\n\u001b[0;32m---> 88\u001b[0m             \u001b[38;5;28;43mself\u001b[39;49m\u001b[38;5;241;43m.\u001b[39;49m\u001b[43m_service_context\u001b[49m\u001b[38;5;241;43m.\u001b[39;49m\u001b[43membed_model\u001b[49m\u001b[38;5;241;43m.\u001b[39;49m\u001b[43mget_agg_embedding_from_queries\u001b[49m\u001b[43m(\u001b[49m\n\u001b[1;32m     89\u001b[0m \u001b[43m                \u001b[49m\u001b[43mquery_bundle\u001b[49m\u001b[38;5;241;43m.\u001b[39;49m\u001b[43membedding_strs\u001b[49m\n\u001b[1;32m     90\u001b[0m \u001b[43m            \u001b[49m\u001b[43m)\u001b[49m\n\u001b[1;32m     91\u001b[0m         )\n\u001b[1;32m     92\u001b[0m \u001b[38;5;28;01mreturn\u001b[39;00m \u001b[38;5;28mself\u001b[39m\u001b[38;5;241m.\u001b[39m_get_nodes_with_embeddings(query_bundle)\n",
      "File \u001b[0;32m~/miniconda3/envs/hf/lib/python3.11/site-packages/llama_index/core/embeddings/base.py:142\u001b[0m, in \u001b[0;36mBaseEmbedding.get_agg_embedding_from_queries\u001b[0;34m(self, queries, agg_fn)\u001b[0m\n\u001b[1;32m    136\u001b[0m \u001b[38;5;28;01mdef\u001b[39;00m \u001b[38;5;21mget_agg_embedding_from_queries\u001b[39m(\n\u001b[1;32m    137\u001b[0m     \u001b[38;5;28mself\u001b[39m,\n\u001b[1;32m    138\u001b[0m     queries: List[\u001b[38;5;28mstr\u001b[39m],\n\u001b[1;32m    139\u001b[0m     agg_fn: Optional[Callable[\u001b[38;5;241m.\u001b[39m\u001b[38;5;241m.\u001b[39m\u001b[38;5;241m.\u001b[39m, Embedding]] \u001b[38;5;241m=\u001b[39m \u001b[38;5;28;01mNone\u001b[39;00m,\n\u001b[1;32m    140\u001b[0m ) \u001b[38;5;241m-\u001b[39m\u001b[38;5;241m>\u001b[39m Embedding:\n\u001b[1;32m    141\u001b[0m \u001b[38;5;250m    \u001b[39m\u001b[38;5;124;03m\"\"\"Get aggregated embedding from multiple queries.\"\"\"\u001b[39;00m\n\u001b[0;32m--> 142\u001b[0m     query_embeddings \u001b[38;5;241m=\u001b[39m \u001b[43m[\u001b[49m\u001b[38;5;28;43mself\u001b[39;49m\u001b[38;5;241;43m.\u001b[39;49m\u001b[43mget_query_embedding\u001b[49m\u001b[43m(\u001b[49m\u001b[43mquery\u001b[49m\u001b[43m)\u001b[49m\u001b[43m \u001b[49m\u001b[38;5;28;43;01mfor\u001b[39;49;00m\u001b[43m \u001b[49m\u001b[43mquery\u001b[49m\u001b[43m \u001b[49m\u001b[38;5;129;43;01min\u001b[39;49;00m\u001b[43m \u001b[49m\u001b[43mqueries\u001b[49m\u001b[43m]\u001b[49m\n\u001b[1;32m    143\u001b[0m     agg_fn \u001b[38;5;241m=\u001b[39m agg_fn \u001b[38;5;129;01mor\u001b[39;00m mean_agg\n\u001b[1;32m    144\u001b[0m     \u001b[38;5;28;01mreturn\u001b[39;00m agg_fn(query_embeddings)\n",
      "File \u001b[0;32m~/miniconda3/envs/hf/lib/python3.11/site-packages/llama_index/core/embeddings/base.py:142\u001b[0m, in \u001b[0;36m<listcomp>\u001b[0;34m(.0)\u001b[0m\n\u001b[1;32m    136\u001b[0m \u001b[38;5;28;01mdef\u001b[39;00m \u001b[38;5;21mget_agg_embedding_from_queries\u001b[39m(\n\u001b[1;32m    137\u001b[0m     \u001b[38;5;28mself\u001b[39m,\n\u001b[1;32m    138\u001b[0m     queries: List[\u001b[38;5;28mstr\u001b[39m],\n\u001b[1;32m    139\u001b[0m     agg_fn: Optional[Callable[\u001b[38;5;241m.\u001b[39m\u001b[38;5;241m.\u001b[39m\u001b[38;5;241m.\u001b[39m, Embedding]] \u001b[38;5;241m=\u001b[39m \u001b[38;5;28;01mNone\u001b[39;00m,\n\u001b[1;32m    140\u001b[0m ) \u001b[38;5;241m-\u001b[39m\u001b[38;5;241m>\u001b[39m Embedding:\n\u001b[1;32m    141\u001b[0m \u001b[38;5;250m    \u001b[39m\u001b[38;5;124;03m\"\"\"Get aggregated embedding from multiple queries.\"\"\"\u001b[39;00m\n\u001b[0;32m--> 142\u001b[0m     query_embeddings \u001b[38;5;241m=\u001b[39m [\u001b[38;5;28;43mself\u001b[39;49m\u001b[38;5;241;43m.\u001b[39;49m\u001b[43mget_query_embedding\u001b[49m\u001b[43m(\u001b[49m\u001b[43mquery\u001b[49m\u001b[43m)\u001b[49m \u001b[38;5;28;01mfor\u001b[39;00m query \u001b[38;5;129;01min\u001b[39;00m queries]\n\u001b[1;32m    143\u001b[0m     agg_fn \u001b[38;5;241m=\u001b[39m agg_fn \u001b[38;5;129;01mor\u001b[39;00m mean_agg\n\u001b[1;32m    144\u001b[0m     \u001b[38;5;28;01mreturn\u001b[39;00m agg_fn(query_embeddings)\n",
      "File \u001b[0;32m~/miniconda3/envs/hf/lib/python3.11/site-packages/llama_index/core/embeddings/base.py:111\u001b[0m, in \u001b[0;36mBaseEmbedding.get_query_embedding\u001b[0;34m(self, query)\u001b[0m\n\u001b[1;32m     99\u001b[0m \u001b[38;5;250m\u001b[39m\u001b[38;5;124;03m\"\"\"\u001b[39;00m\n\u001b[1;32m    100\u001b[0m \u001b[38;5;124;03mEmbed the input query.\u001b[39;00m\n\u001b[1;32m    101\u001b[0m \n\u001b[0;32m   (...)\u001b[0m\n\u001b[1;32m    106\u001b[0m \u001b[38;5;124;03membeddings/huggingface_utils.py.\u001b[39;00m\n\u001b[1;32m    107\u001b[0m \u001b[38;5;124;03m\"\"\"\u001b[39;00m\n\u001b[1;32m    108\u001b[0m \u001b[38;5;28;01mwith\u001b[39;00m \u001b[38;5;28mself\u001b[39m\u001b[38;5;241m.\u001b[39mcallback_manager\u001b[38;5;241m.\u001b[39mevent(\n\u001b[1;32m    109\u001b[0m     CBEventType\u001b[38;5;241m.\u001b[39mEMBEDDING, payload\u001b[38;5;241m=\u001b[39m{EventPayload\u001b[38;5;241m.\u001b[39mSERIALIZED: \u001b[38;5;28mself\u001b[39m\u001b[38;5;241m.\u001b[39mto_dict()}\n\u001b[1;32m    110\u001b[0m ) \u001b[38;5;28;01mas\u001b[39;00m event:\n\u001b[0;32m--> 111\u001b[0m     query_embedding \u001b[38;5;241m=\u001b[39m \u001b[38;5;28;43mself\u001b[39;49m\u001b[38;5;241;43m.\u001b[39;49m\u001b[43m_get_query_embedding\u001b[49m\u001b[43m(\u001b[49m\u001b[43mquery\u001b[49m\u001b[43m)\u001b[49m\n\u001b[1;32m    113\u001b[0m     event\u001b[38;5;241m.\u001b[39mon_end(\n\u001b[1;32m    114\u001b[0m         payload\u001b[38;5;241m=\u001b[39m{\n\u001b[1;32m    115\u001b[0m             EventPayload\u001b[38;5;241m.\u001b[39mCHUNKS: [query],\n\u001b[1;32m    116\u001b[0m             EventPayload\u001b[38;5;241m.\u001b[39mEMBEDDINGS: [query_embedding],\n\u001b[1;32m    117\u001b[0m         },\n\u001b[1;32m    118\u001b[0m     )\n\u001b[1;32m    119\u001b[0m \u001b[38;5;28;01mreturn\u001b[39;00m query_embedding\n",
      "File \u001b[0;32m~/miniconda3/envs/hf/lib/python3.11/site-packages/llama_index/embeddings/langchain.py:59\u001b[0m, in \u001b[0;36mLangchainEmbedding._get_query_embedding\u001b[0;34m(self, query)\u001b[0m\n\u001b[1;32m     57\u001b[0m \u001b[38;5;28;01mdef\u001b[39;00m \u001b[38;5;21m_get_query_embedding\u001b[39m(\u001b[38;5;28mself\u001b[39m, query: \u001b[38;5;28mstr\u001b[39m) \u001b[38;5;241m-\u001b[39m\u001b[38;5;241m>\u001b[39m List[\u001b[38;5;28mfloat\u001b[39m]:\n\u001b[1;32m     58\u001b[0m \u001b[38;5;250m    \u001b[39m\u001b[38;5;124;03m\"\"\"Get query embedding.\"\"\"\u001b[39;00m\n\u001b[0;32m---> 59\u001b[0m     \u001b[38;5;28;01mreturn\u001b[39;00m \u001b[38;5;28;43mself\u001b[39;49m\u001b[38;5;241;43m.\u001b[39;49m\u001b[43m_langchain_embedding\u001b[49m\u001b[38;5;241;43m.\u001b[39;49m\u001b[43membed_query\u001b[49m\u001b[43m(\u001b[49m\u001b[43mquery\u001b[49m\u001b[43m)\u001b[49m\n",
      "File \u001b[0;32m~/miniconda3/envs/hf/lib/python3.11/site-packages/langchain_community/embeddings/huggingface.py:104\u001b[0m, in \u001b[0;36mHuggingFaceEmbeddings.embed_query\u001b[0;34m(self, text)\u001b[0m\n\u001b[1;32m     95\u001b[0m \u001b[38;5;28;01mdef\u001b[39;00m \u001b[38;5;21membed_query\u001b[39m(\u001b[38;5;28mself\u001b[39m, text: \u001b[38;5;28mstr\u001b[39m) \u001b[38;5;241m-\u001b[39m\u001b[38;5;241m>\u001b[39m List[\u001b[38;5;28mfloat\u001b[39m]:\n\u001b[1;32m     96\u001b[0m \u001b[38;5;250m    \u001b[39m\u001b[38;5;124;03m\"\"\"Compute query embeddings using a HuggingFace transformer model.\u001b[39;00m\n\u001b[1;32m     97\u001b[0m \n\u001b[1;32m     98\u001b[0m \u001b[38;5;124;03m    Args:\u001b[39;00m\n\u001b[0;32m   (...)\u001b[0m\n\u001b[1;32m    102\u001b[0m \u001b[38;5;124;03m        Embeddings for the text.\u001b[39;00m\n\u001b[1;32m    103\u001b[0m \u001b[38;5;124;03m    \"\"\"\u001b[39;00m\n\u001b[0;32m--> 104\u001b[0m     \u001b[38;5;28;01mreturn\u001b[39;00m \u001b[38;5;28;43mself\u001b[39;49m\u001b[38;5;241;43m.\u001b[39;49m\u001b[43membed_documents\u001b[49m\u001b[43m(\u001b[49m\u001b[43m[\u001b[49m\u001b[43mtext\u001b[49m\u001b[43m]\u001b[49m\u001b[43m)\u001b[49m[\u001b[38;5;241m0\u001b[39m]\n",
      "File \u001b[0;32m~/miniconda3/envs/hf/lib/python3.11/site-packages/langchain_community/embeddings/huggingface.py:91\u001b[0m, in \u001b[0;36mHuggingFaceEmbeddings.embed_documents\u001b[0;34m(self, texts)\u001b[0m\n\u001b[1;32m     89\u001b[0m     sentence_transformers\u001b[38;5;241m.\u001b[39mSentenceTransformer\u001b[38;5;241m.\u001b[39mstop_multi_process_pool(pool)\n\u001b[1;32m     90\u001b[0m \u001b[38;5;28;01melse\u001b[39;00m:\n\u001b[0;32m---> 91\u001b[0m     embeddings \u001b[38;5;241m=\u001b[39m \u001b[38;5;28;43mself\u001b[39;49m\u001b[38;5;241;43m.\u001b[39;49m\u001b[43mclient\u001b[49m\u001b[38;5;241;43m.\u001b[39;49m\u001b[43mencode\u001b[49m\u001b[43m(\u001b[49m\u001b[43mtexts\u001b[49m\u001b[43m,\u001b[49m\u001b[43m \u001b[49m\u001b[38;5;241;43m*\u001b[39;49m\u001b[38;5;241;43m*\u001b[39;49m\u001b[38;5;28;43mself\u001b[39;49m\u001b[38;5;241;43m.\u001b[39;49m\u001b[43mencode_kwargs\u001b[49m\u001b[43m)\u001b[49m\n\u001b[1;32m     93\u001b[0m \u001b[38;5;28;01mreturn\u001b[39;00m embeddings\u001b[38;5;241m.\u001b[39mtolist()\n",
      "File \u001b[0;32m~/miniconda3/envs/hf/lib/python3.11/site-packages/sentence_transformers/SentenceTransformer.py:162\u001b[0m, in \u001b[0;36mSentenceTransformer.encode\u001b[0;34m(self, sentences, batch_size, show_progress_bar, output_value, convert_to_numpy, convert_to_tensor, device, normalize_embeddings)\u001b[0m\n\u001b[1;32m    160\u001b[0m sentences_batch \u001b[38;5;241m=\u001b[39m sentences_sorted[start_index:start_index\u001b[38;5;241m+\u001b[39mbatch_size]\n\u001b[1;32m    161\u001b[0m features \u001b[38;5;241m=\u001b[39m \u001b[38;5;28mself\u001b[39m\u001b[38;5;241m.\u001b[39mtokenize(sentences_batch)\n\u001b[0;32m--> 162\u001b[0m features \u001b[38;5;241m=\u001b[39m \u001b[43mbatch_to_device\u001b[49m\u001b[43m(\u001b[49m\u001b[43mfeatures\u001b[49m\u001b[43m,\u001b[49m\u001b[43m \u001b[49m\u001b[43mdevice\u001b[49m\u001b[43m)\u001b[49m\n\u001b[1;32m    164\u001b[0m \u001b[38;5;28;01mwith\u001b[39;00m torch\u001b[38;5;241m.\u001b[39mno_grad():\n\u001b[1;32m    165\u001b[0m     out_features \u001b[38;5;241m=\u001b[39m \u001b[38;5;28mself\u001b[39m\u001b[38;5;241m.\u001b[39mforward(features)\n",
      "File \u001b[0;32m~/miniconda3/envs/hf/lib/python3.11/site-packages/sentence_transformers/util.py:300\u001b[0m, in \u001b[0;36mbatch_to_device\u001b[0;34m(batch, target_device)\u001b[0m\n\u001b[1;32m    298\u001b[0m \u001b[38;5;28;01mfor\u001b[39;00m key \u001b[38;5;129;01min\u001b[39;00m batch:\n\u001b[1;32m    299\u001b[0m     \u001b[38;5;28;01mif\u001b[39;00m \u001b[38;5;28misinstance\u001b[39m(batch[key], Tensor):\n\u001b[0;32m--> 300\u001b[0m         batch[key] \u001b[38;5;241m=\u001b[39m \u001b[43mbatch\u001b[49m\u001b[43m[\u001b[49m\u001b[43mkey\u001b[49m\u001b[43m]\u001b[49m\u001b[38;5;241;43m.\u001b[39;49m\u001b[43mto\u001b[49m\u001b[43m(\u001b[49m\u001b[43mtarget_device\u001b[49m\u001b[43m)\u001b[49m\n\u001b[1;32m    301\u001b[0m \u001b[38;5;28;01mreturn\u001b[39;00m batch\n",
      "\u001b[0;31mRuntimeError\u001b[0m: CUDA error: unknown error\nCUDA kernel errors might be asynchronously reported at some other API call, so the stacktrace below might be incorrect.\nFor debugging consider passing CUDA_LAUNCH_BLOCKING=1.\nCompile with `TORCH_USE_CUDA_DSA` to enable device-side assertions.\n"
     ]
    }
   ],
   "source": [
    "nodes = retriever.retrieve(\n",
    "    \"Show me pictures I clicked at low ISO\"\n",
    ")\n",
    "display_response(nodes)"
   ]
  },
  {
   "cell_type": "code",
   "execution_count": null,
   "metadata": {},
   "outputs": [],
   "source": []
  }
 ],
 "metadata": {
  "kernelspec": {
   "display_name": "hf",
   "language": "python",
   "name": "python3"
  },
  "language_info": {
   "codemirror_mode": {
    "name": "ipython",
    "version": 3
   },
   "file_extension": ".py",
   "mimetype": "text/x-python",
   "name": "python",
   "nbconvert_exporter": "python",
   "pygments_lexer": "ipython3",
   "version": "3.11.4"
  }
 },
 "nbformat": 4,
 "nbformat_minor": 2
}
